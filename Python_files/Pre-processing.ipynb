{
 "cells": [
  {
   "cell_type": "code",
   "execution_count": 1,
   "metadata": {},
   "outputs": [],
   "source": [
    "import os"
   ]
  },
  {
   "cell_type": "code",
   "execution_count": 9,
   "metadata": {},
   "outputs": [],
   "source": [
    "strains = ['TBS10','Gpo1','CGA009']\n",
    "strains = ['Gpo1','CGA009']\n",
    "home_dir = '/home/egbe290/SBD/Multi_strain_promoter_library/'\n",
    "DRAFTS_path = '/home/egbe290/SBD/DRAFTS/DRAFTS/code/01_DRAFTS_process_raw.sh'"
   ]
  },
  {
   "cell_type": "markdown",
   "metadata": {},
   "source": [
    "### Make directory structure that is compatible with DRAFTS scripts"
   ]
  },
  {
   "cell_type": "code",
   "execution_count": null,
   "metadata": {},
   "outputs": [],
   "source": [
    "for strain in strains:\n",
    "    \n",
    "    os.chdir(home_dir+'/'+strain)\n",
    "    \n",
    "    files = os.listdir()\n",
    "    if 'Reads' not in files:\n",
    "        os.makedirs('Reads')\n",
    "        os.makedirs('Paired')\n",
    "    for f in files:\n",
    "        if 'fastq' in f:\n",
    "            try:\n",
    "                fName = f.split('_R')[0]\n",
    "                if fName not in os.listdir('Reads'):\n",
    "                    os.makedirs('Reads/{}'.format(fName))\n",
    "                    os.system('mv {0}*.gz Reads/{0}'.format(fName))\n",
    "            except:\n",
    "                print('{} failed'.format(f))\n",
    "        else:\n",
    "            print('{} not a proper fastq file'.format(d))\n"
   ]
  },
  {
   "cell_type": "markdown",
   "metadata": {},
   "source": [
    "### Convert single reads to paired reads"
   ]
  },
  {
   "cell_type": "code",
   "execution_count": 10,
   "metadata": {},
   "outputs": [],
   "source": [
    "for strain in strains:\n",
    "    read_dir = home_dir+strain+'/Reads'\n",
    "    output_dir = home_dir+strain+'/Paired'\n",
    "\n",
    "    os.system('bash {} {} {}'.format(DRAFTS_path,read_dir,output_dir))"
   ]
  }
 ],
 "metadata": {
  "kernelspec": {
   "display_name": "Python 3",
   "language": "python",
   "name": "python3"
  },
  "language_info": {
   "codemirror_mode": {
    "name": "ipython",
    "version": 3
   },
   "file_extension": ".py",
   "mimetype": "text/x-python",
   "name": "python",
   "nbconvert_exporter": "python",
   "pygments_lexer": "ipython3",
   "version": "3.7.3"
  }
 },
 "nbformat": 4,
 "nbformat_minor": 4
}
